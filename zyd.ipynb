{
 "cells": [
  {
   "cell_type": "code",
   "execution_count": 1,
   "id": "e6264a03-5f76-4617-ac22-47765ebbef15",
   "metadata": {},
   "outputs": [
    {
     "name": "stdout",
     "output_type": "stream",
     "text": [
      "zyd\n"
     ]
    }
   ],
   "source": [
    "print(\"zyd\")"
   ]
  },
  {
   "cell_type": "code",
   "execution_count": null,
   "id": "34bf1b0e-d8a2-43f9-90ac-eb2c04da8fd2",
   "metadata": {},
   "outputs": [],
   "source": []
  }
 ],
 "metadata": {
  "kernelspec": {
   "display_name": "Python 3 (ipykernel)",
   "language": "python",
   "name": "python3"
  },
  "language_info": {
   "codemirror_mode": {
    "name": "ipython",
    "version": 3
   },
   "file_extension": ".py",
   "mimetype": "text/x-python",
   "name": "python",
   "nbconvert_exporter": "python",
   "pygments_lexer": "ipython3",
   "version": "3.8.18"
  }
 },
 "nbformat": 4,
 "nbformat_minor": 5
}
