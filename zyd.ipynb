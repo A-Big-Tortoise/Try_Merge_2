{
 "cells": [
  {
   "cell_type": "code",
   "execution_count": 6,
   "id": "5e255e66-5c50-47ca-a77a-15f0ae732c48",
   "metadata": {},
   "outputs": [
    {
     "name": "stdout",
     "output_type": "stream",
     "text": [
      "zyd 44\n"
     ]
    }
   ],
   "source": [
    "print(\"zyd 44\")"
   ]
  },
  {
   "cell_type": "code",
   "execution_count": 1,
   "id": "e6264a03-5f76-4617-ac22-47765ebbef15",
   "metadata": {},
   "outputs": [
    {
     "name": "stdout",
     "output_type": "stream",
     "text": [
      "zyd\n"
     ]
    }
   ],
   "source": [
    "print(\"zyd\")"
   ]
  },
  {
   "cell_type": "markdown",
   "id": "72d96a20-4923-479f-a87f-7c55c1632da7",
   "metadata": {},
   "source": [
    "test"
   ]
  },
  {
   "cell_type": "code",
   "execution_count": 3,
   "id": "34bf1b0e-d8a2-43f9-90ac-eb2c04da8fd2",
   "metadata": {},
   "outputs": [
    {
     "name": "stdout",
     "output_type": "stream",
     "text": [
      "zyd 222\n"
     ]
    }
   ],
   "source": [
    "print(\"zyd 222\")"
   ]
  },
  {
   "cell_type": "code",
   "execution_count": 5,
   "id": "0b138f83-1025-4e36-bd3e-e7d6fe218ca5",
   "metadata": {},
   "outputs": [
    {
     "name": "stdout",
     "output_type": "stream",
     "text": [
      "zyd 333\n"
     ]
    }
   ],
   "source": [
    "print(\"zyd 333\")"
   ]
  }
 ],
 "metadata": {
  "kernelspec": {
   "display_name": "Python 3 (ipykernel)",
   "language": "python",
   "name": "python3"
  },
  "language_info": {
   "codemirror_mode": {
    "name": "ipython",
    "version": 3
   },
   "file_extension": ".py",
   "mimetype": "text/x-python",
   "name": "python",
   "nbconvert_exporter": "python",
   "pygments_lexer": "ipython3",
   "version": "3.8.18"
  }
 },
 "nbformat": 4,
 "nbformat_minor": 5
}
